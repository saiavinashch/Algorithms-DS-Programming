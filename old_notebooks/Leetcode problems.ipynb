{
 "cells": [
  {
   "cell_type": "code",
   "execution_count": 20,
   "metadata": {},
   "outputs": [
    {
     "ename": "TypeError",
     "evalue": "list indices must be integers or slices, not float",
     "output_type": "error",
     "traceback": [
      "\u001b[1;31m---------------------------------------------------------------------------\u001b[0m",
      "\u001b[1;31mTypeError\u001b[0m                                 Traceback (most recent call last)",
      "\u001b[1;32m<ipython-input-20-8d8a752799f6>\u001b[0m in \u001b[0;36m<module>\u001b[1;34m\u001b[0m\n\u001b[0;32m     11\u001b[0m     \u001b[0mlow\u001b[0m \u001b[1;33m=\u001b[0m \u001b[0mlength_of_array\u001b[0m\u001b[1;33m/\u001b[0m\u001b[1;36m2\u001b[0m\u001b[1;33m-\u001b[0m\u001b[1;36m1\u001b[0m\u001b[1;33m\u001b[0m\u001b[1;33m\u001b[0m\u001b[0m\n\u001b[0;32m     12\u001b[0m     \u001b[0mhigh\u001b[0m \u001b[1;33m=\u001b[0m \u001b[0mlength_of_array\u001b[0m\u001b[1;33m/\u001b[0m\u001b[1;36m2\u001b[0m\u001b[1;33m+\u001b[0m\u001b[1;36m1\u001b[0m\u001b[1;33m\u001b[0m\u001b[1;33m\u001b[0m\u001b[0m\n\u001b[1;32m---> 13\u001b[1;33m     \u001b[0mmedian\u001b[0m \u001b[1;33m=\u001b[0m \u001b[1;33m(\u001b[0m\u001b[0msorted_array\u001b[0m\u001b[1;33m[\u001b[0m\u001b[0mlow\u001b[0m\u001b[1;33m]\u001b[0m\u001b[1;33m+\u001b[0m\u001b[0msorted_array\u001b[0m\u001b[1;33m[\u001b[0m\u001b[0mhigh\u001b[0m\u001b[1;33m]\u001b[0m\u001b[1;33m)\u001b[0m\u001b[1;33m/\u001b[0m\u001b[1;36m2\u001b[0m\u001b[1;33m\u001b[0m\u001b[1;33m\u001b[0m\u001b[0m\n\u001b[0m\u001b[0;32m     14\u001b[0m \u001b[0mprint\u001b[0m\u001b[1;33m(\u001b[0m\u001b[0msorted_array\u001b[0m\u001b[1;33m[\u001b[0m\u001b[0mlow\u001b[0m\u001b[1;33m]\u001b[0m\u001b[1;33m+\u001b[0m\u001b[0msorted_array\u001b[0m\u001b[1;33m[\u001b[0m\u001b[0mhigh\u001b[0m\u001b[1;33m]\u001b[0m\u001b[1;33m)\u001b[0m\u001b[1;33m\u001b[0m\u001b[1;33m\u001b[0m\u001b[0m\n",
      "\u001b[1;31mTypeError\u001b[0m: list indices must be integers or slices, not float"
     ]
    }
   ],
   "source": [
    "#Problem 5 Median of two sorted arrays\n",
    "from math import ceil\n",
    "nums1 = [1,3]\n",
    "nums2 = [2,4]\n",
    "median = 0.0\n",
    "low,high = 0,0\n",
    "sorted_array = sorted(nums1+nums2)\n",
    "length_of_array = len(sorted_array)\n",
    "if length_of_array%2 == 1:\n",
    "    median = sorted_array[length_of_array/2]\n",
    "else:\n",
    "    low = length_of_array/2-1\n",
    "    high = length_of_array/2+1\n",
    "    median = (sorted_array[low]+sorted_array[high])/2\n",
    "print(sorted_array[low]+sorted_array[high])"
   ]
  },
  {
   "cell_type": "code",
   "execution_count": 30,
   "metadata": {},
   "outputs": [
    {
     "data": {
      "text/plain": [
       "'hsaniva'"
      ]
     },
     "execution_count": 30,
     "metadata": {},
     "output_type": "execute_result"
    }
   ],
   "source": [
    "s = 'avinash'\n",
    "s[0:7][::-1]"
   ]
  },
  {
   "cell_type": "code",
   "execution_count": 27,
   "metadata": {},
   "outputs": [
    {
     "data": {
      "text/plain": [
       "'ababa'"
      ]
     },
     "execution_count": 27,
     "metadata": {},
     "output_type": "execute_result"
    }
   ],
   "source": [
    "s[::-1]"
   ]
  },
  {
   "cell_type": "code",
   "execution_count": 58,
   "metadata": {},
   "outputs": [
    {
     "name": "stdout",
     "output_type": "stream",
     "text": [
      "3\n"
     ]
    }
   ],
   "source": [
    "s = \"3.145\"\n",
    "final = ''\n",
    "if s[0].isalpha() or len(str) == 0:\n",
    "    print(0)\n",
    "else:\n",
    "    for i in s:\n",
    "        if ord(i) in range(48,58) or ord(i) in [43,45,46]:\n",
    "              final+=i\n",
    "    if int(float(final)) < -2**31 or int(float(final)) > 2**31 -1:\n",
    "        print(-2**31)\n",
    "    else:\n",
    "        print(int(float(final)))\n",
    "        "
   ]
  },
  {
   "cell_type": "code",
   "execution_count": 40,
   "metadata": {},
   "outputs": [
    {
     "data": {
      "text/plain": [
       "-91283472332"
      ]
     },
     "execution_count": 40,
     "metadata": {},
     "output_type": "execute_result"
    }
   ],
   "source": [
    "int('-91283472332')"
   ]
  },
  {
   "cell_type": "code",
   "execution_count": 42,
   "metadata": {},
   "outputs": [
    {
     "data": {
      "text/plain": [
       "''"
      ]
     },
     "execution_count": 42,
     "metadata": {},
     "output_type": "execute_result"
    }
   ],
   "source": [
    "final"
   ]
  },
  {
   "cell_type": "code",
   "execution_count": 53,
   "metadata": {},
   "outputs": [
    {
     "ename": "ValueError",
     "evalue": "invalid literal for int() with base 10: '3.145'",
     "output_type": "error",
     "traceback": [
      "\u001b[1;31m---------------------------------------------------------------------------\u001b[0m",
      "\u001b[1;31mValueError\u001b[0m                                Traceback (most recent call last)",
      "\u001b[1;32m<ipython-input-53-ab99f9044814>\u001b[0m in \u001b[0;36m<module>\u001b[1;34m\u001b[0m\n\u001b[1;32m----> 1\u001b[1;33m \u001b[0mint\u001b[0m\u001b[1;33m(\u001b[0m\u001b[1;34m'3.145'\u001b[0m\u001b[1;33m,\u001b[0m\u001b[1;36m10\u001b[0m\u001b[1;33m)\u001b[0m\u001b[1;33m\u001b[0m\u001b[1;33m\u001b[0m\u001b[0m\n\u001b[0m",
      "\u001b[1;31mValueError\u001b[0m: invalid literal for int() with base 10: '3.145'"
     ]
    }
   ],
   "source": [
    "int('3.145',10)"
   ]
  },
  {
   "cell_type": "code",
   "execution_count": 64,
   "metadata": {},
   "outputs": [
    {
     "name": "stdout",
     "output_type": "stream",
     "text": [
      "0 e\n",
      "1 u\n",
      "2 l\n",
      "3 b\n",
      "4  \n",
      "5 s\n",
      "6 i\n",
      "7  \n",
      "8 y\n",
      "9 k\n",
      "10 s\n",
      "11  \n",
      "12 e\n",
      "13 h\n",
      "14 t\n"
     ]
    }
   ],
   "source": [
    "s = [\"t\",\"h\",\"e\",\" \",\"s\",\"k\",\"y\",\" \",\"i\",\"s\",\" \",\"b\",\"l\",\"u\",\"e\"]\n",
    "for idx,val in enumerate(s[::-1]):\n",
    "    print(idx, val)"
   ]
  },
  {
   "cell_type": "code",
   "execution_count": 93,
   "metadata": {},
   "outputs": [
    {
     "name": "stdout",
     "output_type": "stream",
     "text": [
      "['e'] 0 15\n",
      "['e', 'u'] 1 15\n",
      "['e', 'u', 'l'] 2 15\n",
      "['e', 'u', 'l', 'b'] 3 15\n",
      "['b', 'l', 'u', 'e', ' '] 4 15\n",
      "['s'] 5 15\n",
      "['s', 'i'] 6 15\n",
      "['b', 'l', 'u', 'e', ' ', 'i', 's', ' '] 7 15\n",
      "['y'] 8 15\n",
      "['y', 'k'] 9 15\n",
      "['y', 'k', 's'] 10 15\n",
      "['b', 'l', 'u', 'e', ' ', 'i', 's', ' ', 's', 'k', 'y', ' '] 11 15\n",
      "['e'] 12 15\n",
      "['e', 'h'] 13 15\n"
     ]
    }
   ],
   "source": [
    "temp = []\n",
    "final= []\n",
    "length_of_string = len(s)\n",
    "for i,v in enumerate(s[::-1]):\n",
    "    if v!= ' ' and i<length_of_string-1:\n",
    "        temp.append(v)\n",
    "        print(temp,i,length_of_string)\n",
    "    elif i<length_of_string-1:\n",
    "        final.extend(temp[::-1])\n",
    "        final.append(v)\n",
    "        print(final,i,length_of_string)\n",
    "        temp = []\n",
    "    else:\n",
    "        temp.append(v)\n",
    "        final.extend(temp[::-1])"
   ]
  },
  {
   "cell_type": "code",
   "execution_count": 94,
   "metadata": {},
   "outputs": [
    {
     "data": {
      "text/plain": [
       "['b', 'l', 'u', 'e', ' ', 'i', 's', ' ', 's', 'k', 'y', ' ', 't', 'h', 'e']"
      ]
     },
     "execution_count": 94,
     "metadata": {},
     "output_type": "execute_result"
    }
   ],
   "source": [
    "final"
   ]
  },
  {
   "cell_type": "code",
   "execution_count": 73,
   "metadata": {},
   "outputs": [
    {
     "name": "stdout",
     "output_type": "stream",
     "text": [
      "<list_reverseiterator object at 0x000002207AE855C8>\n",
      "<list_reverseiterator object at 0x000002207AE855C8>\n",
      "<list_reverseiterator object at 0x000002207AE855C8>\n",
      "<list_reverseiterator object at 0x000002207AE855C8>\n"
     ]
    }
   ],
   "source": [
    "for i in a:\n",
    "    print(a)"
   ]
  },
  {
   "cell_type": "code",
   "execution_count": null,
   "metadata": {},
   "outputs": [],
   "source": []
  }
 ],
 "metadata": {
  "kernelspec": {
   "display_name": "Python 3",
   "language": "python",
   "name": "python3"
  },
  "language_info": {
   "codemirror_mode": {
    "name": "ipython",
    "version": 3
   },
   "file_extension": ".py",
   "mimetype": "text/x-python",
   "name": "python",
   "nbconvert_exporter": "python",
   "pygments_lexer": "ipython3",
   "version": "3.7.6"
  }
 },
 "nbformat": 4,
 "nbformat_minor": 4
}
